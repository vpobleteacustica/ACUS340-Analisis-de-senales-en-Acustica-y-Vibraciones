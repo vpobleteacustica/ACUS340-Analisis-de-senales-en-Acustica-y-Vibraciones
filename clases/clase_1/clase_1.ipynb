{
 "cells": [
  {
   "cell_type": "code",
   "execution_count": 1,
   "metadata": {},
   "outputs": [
    {
     "data": {
      "text/html": [
       "<!-- Mejorar visualización en proyector -->\n",
       "<style>\n",
       ".rendered_html {font-size: 1.2em; line-height: 150%;}\n",
       "div.prompt {min-width: 0ex; }\n",
       ".container {width:95% !important;}\n",
       "</style>\n"
      ],
      "text/plain": [
       "<IPython.core.display.HTML object>"
      ]
     },
     "metadata": {},
     "output_type": "display_data"
    }
   ],
   "source": [
    "%%HTML\n",
    "<!-- Mejorar visualización en proyector -->\n",
    "<style>\n",
    ".rendered_html {font-size: 1.2em; line-height: 150%;}\n",
    "div.prompt {min-width: 0ex; }\n",
    ".container {width:95% !important;}\n",
    "</style>"
   ]
  },
  {
   "cell_type": "markdown",
   "metadata": {},
   "source": [
    "#### <h1 style=\"text-align:center\">Semana 2. Clase 2: Señales y sistemas en tiempo discreto </h1>\n",
    "<h3 style=\"text-align:center\">ACUS340: Procesamiento digital de señales</h3>\n",
    "<p style=\"text-align:center\">Dr. Víctor Poblete <br>\n",
    "<a href=\"mailto:vpoblete@uach.cl\">vpoblete@uach.cl</a><br>\n",
    "<a href=\"https://github.com/vpobleteacustica/ACUS340-Analisis-de-senales-en-Acustica-y-Vibraciones/tree/master\">https://github.com/vpobleteacustica/ACUS340-Analisis-de-senales-en-Acustica-y-Vibraciones/tree/master</a><br> \n",
    "<p style=\"text-align:center\">Diego Espejo Alquinta - Ayudante <br>\n",
    "<a href=\"mailto:diego.espejo@alumnos.uach.cl\">diego.espejo@alumnos.uach.cl </a><br>\n",
    "<a href=\"http://www.acusticauach.cl\">www.acusticauach.cl</a><br> "
   ]
  },
  {
   "cell_type": "markdown",
   "metadata": {},
   "source": [
    "### Variable independiente en la representación matemática de una señal.\n",
    "\n",
    "* Las señales son representadas matemáticamente como una **función**. Estas pueden ser funciones de **una variable independiente**, o **más de una variable independiente**.\n",
    "\n",
    "$$\n",
    "\\begin{align}\n",
    "f_{1}(t) &= t^{2}\\\\\n",
    "f_{2}(x,y) &= x^{2}+2xy+x^{2}\n",
    "\\end{align}\n",
    "$$\n",
    "\n",
    "\n"
   ]
  },
  {
   "cell_type": "markdown",
   "metadata": {},
   "source": [
    "### Grabar nuestra propia voz y visualizar en el tiempo la señal grabada (1D)"
   ]
  },
  {
   "cell_type": "markdown",
   "metadata": {},
   "source": [
    "### Librería PyAudio:\n",
    "> + https://people.csail.mit.edu/hubert/pyaudio/"
   ]
  },
  {
   "cell_type": "code",
   "execution_count": 2,
   "metadata": {},
   "outputs": [
    {
     "name": "stdout",
     "output_type": "stream",
     "text": [
      "Clase_4.ipynb  \u001b[0m\u001b[01;35mfoto2.jpg\u001b[0m  \u001b[00;36mImpS1Amp.wav\u001b[0m  \u001b[00;36mmotor.wav\u001b[0m  \u001b[01;35mSistema2.png\u001b[0m\r\n"
     ]
    }
   ],
   "source": [
    "ls"
   ]
  },
  {
   "cell_type": "code",
   "execution_count": 3,
   "metadata": {},
   "outputs": [],
   "source": [
    "import pyaudio\n",
    "import wave\n",
    "import numpy as np\n",
    "import matplotlib.pyplot as plt\n",
    "%matplotlib inline\n",
    "import IPython.display as ipd\n",
    "import librosa.display\n",
    "\n",
    "from mpl_toolkits.mplot3d import Axes3D\n",
    "from scipy.io.wavfile import write\n",
    "\n",
    "from PIL import Image\n",
    "import matplotlib.image as mpimg"
   ]
  },
  {
   "cell_type": "code",
   "execution_count": null,
   "metadata": {},
   "outputs": [],
   "source": [
    "chunk                  = 1024\n",
    "formato                = pyaudio.paInt16\n",
    "canales                = 1\n",
    "tasa_sampleo           = 44100\n",
    "segundos_grabados      = 5\n",
    "nombre_archivo_salida  = \"mipropiavoz.wav\"\n",
    "\n",
    "p = pyaudio.PyAudio()\n",
    "\n",
    "stream = p.open(format=formato,\n",
    "                channels=canales,\n",
    "                rate=tasa_sampleo,\n",
    "                input=True,\n",
    "                frames_per_buffer=chunk)\n",
    "\n",
    "print(\"* grabando\")\n",
    "\n",
    "frames = []\n",
    "\n",
    "for i in range(0, int(tasa_sampleo / chunk * segundos_grabados)):\n",
    "    data = stream.read(chunk)\n",
    "    frames.append(data)\n",
    "\n",
    "print(\"* lista la grabación\")\n",
    "\n",
    "stream.stop_stream()\n",
    "stream.close()\n",
    "p.terminate()\n",
    "\n",
    "wf = wave.open(nombre_archivo_salida, 'wb')\n",
    "wf.setnchannels(canales)\n",
    "wf.setsampwidth(p.get_sample_size(formato))\n",
    "wf.setframerate(tasa_sampleo)\n",
    "wf.writeframes(b''.join(frames))\n",
    "wf.close()"
   ]
  },
  {
   "cell_type": "markdown",
   "metadata": {},
   "source": [
    "### Librería librosa para audio adquisición y reproducción\n",
    "> + librosa is a Python package for music and audio processing by Brian McFee.\n",
    "> + https://librosa.org/doc/latest/index.html"
   ]
  },
  {
   "cell_type": "code",
   "execution_count": null,
   "metadata": {},
   "outputs": [],
   "source": [
    "x, sr = librosa.load('mipropiavoz.wav')\n",
    "plt.figure(figsize=(30, 4))\n",
    "\n",
    "baseline = plt.plot(x) \n",
    "plt.setp(baseline, color='k', linewidth=2)\n",
    "plt.xlabel('time (s)')\n",
    "plt.ylabel('amplitude')\n",
    "ipd.Audio('mipropiavoz.wav')\n"
   ]
  },
  {
   "cell_type": "markdown",
   "metadata": {},
   "source": [
    "### Uso sox: https://digitalcardboard.com/blog/2009/08/25/the-sox-of-silence/\n",
    "\n",
    "+ Si queremos cortar los silencios existentes al inicio y término de una señal, entonces podemos usar SOX. Abrir un terminal en la carpeta donde está nuestro archivo de audio. Y correr las dos siguientes líneas:\n",
    "\n",
    "> * sox in.wav temp.wav silence 1 0.1 1% reverse\n",
    "> * sox temp.wav out.wav silence 1 0.1 1% reverse\n",
    "\n",
    "\n"
   ]
  },
  {
   "cell_type": "code",
   "execution_count": null,
   "metadata": {},
   "outputs": [],
   "source": [
    "x, sr = librosa.load('mipropiavoz2.wav')\n",
    "plt.figure(figsize=(30, 4))\n",
    "\n",
    "baseline = plt.plot(x) \n",
    "plt.setp(baseline, color='k', linewidth=2)\n",
    "plt.xlabel('time (s)')\n",
    "plt.ylabel('amplitude')\n",
    "ipd.Audio('mipropiavoz2.wav')"
   ]
  },
  {
   "cell_type": "code",
   "execution_count": null,
   "metadata": {},
   "outputs": [],
   "source": [
    "noise, sr = librosa.load('motor.wav')\n",
    "print(len(noise))\n",
    "print(len(x))\n",
    "\n",
    "#noiset    = noise[193382:200000]\n",
    "\n",
    "plt.figure(figsize=(30, 4))\n",
    "baseline = plt.plot(noise) \n",
    "plt.setp(baseline, color='k', linewidth=2)\n",
    "plt.xlabel('time (s)')\n",
    "plt.ylabel('amplitude')\n",
    "ipd.Audio('motor.wav')\n",
    "Lnoiset = len(noiset)\n",
    "print(Lnoiset)\n",
    "ipd.Audio('motor.wav')"
   ]
  },
  {
   "cell_type": "code",
   "execution_count": null,
   "metadata": {},
   "outputs": [],
   "source": [
    "z = 200000-len(x)\n",
    "print(z)"
   ]
  },
  {
   "cell_type": "code",
   "execution_count": null,
   "metadata": {},
   "outputs": [],
   "source": [
    "noise, sr = librosa.load('motor.wav')\n",
    "\n",
    "noiset    = noise[193382:200000]\n",
    "\n",
    "plt.figure(figsize=(30, 4))\n",
    "baseline = plt.plot(noiset) \n",
    "plt.setp(baseline, color='k', linewidth=2)\n",
    "plt.xlabel('time (s)')\n",
    "plt.ylabel('amplitude')\n",
    "#ipd.Audio('motor.wav')\n",
    "Lnoiset = len(noiset)\n",
    "print(Lnoiset)\n",
    "\n",
    "librosa.output.write_wav('motor_chunk.wav', noiset, sr)\n",
    "\n",
    "\n",
    "ipd.Audio('motor_chunk.wav')"
   ]
  },
  {
   "cell_type": "code",
   "execution_count": null,
   "metadata": {},
   "outputs": [],
   "source": [
    "nombre_archivo_salida  = \"mivozmasmotor.wav\"\n",
    "\n",
    "y = x + 2*noiset\n",
    "write(nombre_archivo_salida, sr, y)\n",
    "\n",
    "plt.figure(figsize=(30, 4))\n",
    "baseline = plt.plot(y) \n",
    "plt.setp(baseline, color='k', linewidth=2)\n",
    "plt.xlabel('time (s)')\n",
    "plt.ylabel('amplitude')\n",
    "ipd.Audio(nombre_archivo_salida)\n"
   ]
  },
  {
   "cell_type": "code",
   "execution_count": null,
   "metadata": {},
   "outputs": [],
   "source": [
    "rev, sr = librosa.load('ImpS1Amp.wav')\n",
    "ipd.Audio('ImpS1Amp.wav')\n",
    "\n",
    "plt.figure(figsize=(30, 4))\n",
    "baseline = plt.plot(rev) \n",
    "plt.setp(baseline, color='k', linewidth=2)\n",
    "plt.xlabel('time (s)')\n",
    "plt.ylabel('amplitude')\n",
    "ipd.Audio('ImpS1Amp.wav')\n"
   ]
  },
  {
   "cell_type": "code",
   "execution_count": null,
   "metadata": {},
   "outputs": [],
   "source": [
    "print(10000-len(x))\n",
    "revt    = rev[3382:10000]\n",
    "librosa.output.write_wav('rev_chunk.wav', revt, sr)\n",
    "\n",
    "ipd.Audio('rev_chunk.wav')\n",
    "\n"
   ]
  },
  {
   "cell_type": "code",
   "execution_count": null,
   "metadata": {},
   "outputs": [],
   "source": [
    "plt.figure(figsize=(30, 4))\n",
    "baseline = plt.plot(revt) \n",
    "plt.setp(baseline, color='k', linewidth=2)\n",
    "plt.xlabel('time (s)')\n",
    "plt.ylabel('amplitude')"
   ]
  },
  {
   "cell_type": "code",
   "execution_count": null,
   "metadata": {},
   "outputs": [],
   "source": [
    "nombre_archivo_salida  = \"mivozmasrev.wav\"\n",
    "\n",
    "y = x + 1.5*revt\n",
    "write(nombre_archivo_salida, sr, y)\n",
    "\n",
    "ipd.Audio(nombre_archivo_salida)\n",
    "\n"
   ]
  },
  {
   "cell_type": "code",
   "execution_count": null,
   "metadata": {},
   "outputs": [],
   "source": [
    "plt.figure(figsize=(30, 4))\n",
    "baseline = plt.plot(y) \n",
    "plt.setp(baseline, color='k', linewidth=2)\n",
    "plt.xlabel('time (s)')\n",
    "plt.ylabel('amplitude')\n"
   ]
  },
  {
   "cell_type": "markdown",
   "metadata": {},
   "source": [
    "### Leer una imagen 2D"
   ]
  },
  {
   "cell_type": "code",
   "execution_count": null,
   "metadata": {},
   "outputs": [],
   "source": [
    "img = mpimg.imread('foto3.jpg')\n",
    "print(img.shape)\n",
    "imgplot = plt.imshow(img)"
   ]
  },
  {
   "cell_type": "code",
   "execution_count": null,
   "metadata": {},
   "outputs": [],
   "source": [
    "lum_img = img[:, :, 0]\n",
    "\n",
    "plt.imshow(lum_img)"
   ]
  },
  {
   "cell_type": "code",
   "execution_count": null,
   "metadata": {},
   "outputs": [],
   "source": [
    "lum_img = img[:, :, 1]\n",
    "\n",
    "plt.imshow(lum_img)"
   ]
  },
  {
   "cell_type": "code",
   "execution_count": null,
   "metadata": {},
   "outputs": [],
   "source": [
    "lum_img = img[:, :, 2]\n",
    "\n",
    "plt.imshow(lum_img)"
   ]
  },
  {
   "cell_type": "code",
   "execution_count": null,
   "metadata": {},
   "outputs": [],
   "source": [
    "plt.imshow(lum_img, cmap=\"hot\")"
   ]
  },
  {
   "cell_type": "code",
   "execution_count": null,
   "metadata": {},
   "outputs": [],
   "source": [
    "imgplot = plt.imshow(lum_img)\n",
    "imgplot.set_cmap('nipy_spectral')"
   ]
  },
  {
   "cell_type": "markdown",
   "metadata": {},
   "source": [
    "### Meshgrid 2D"
   ]
  },
  {
   "cell_type": "code",
   "execution_count": null,
   "metadata": {},
   "outputs": [],
   "source": [
    "xlist = np.linspace(-3.0,3.0,3)\n",
    "ylist = np.linspace(-3.0,3.0,4)\n",
    "\n",
    "X, Y  = np.meshgrid(xlist,ylist)\n",
    "\n",
    "print(xlist)\n",
    "print(X)\n",
    "\n",
    "print(ylist)\n",
    "print(Y)\n",
    "\n",
    "print([(xlist[0],ylist[0]),(xlist[1],ylist[0]),(xlist[2],ylist[0])],\\\n",
    "      [(xlist[0],ylist[1]),(xlist[1],ylist[1]),(xlist[2],ylist[1])],\\\n",
    "      [(xlist[0],ylist[2]),(xlist[1],ylist[2]),(xlist[2],ylist[2])],\\\n",
    "      [(xlist[0],ylist[3]),(xlist[1],ylist[3]),(xlist[2],ylist[3])]) # par de coordenadas\n",
    "#print((xlist[0],ylist[0])) # pares de coordenadas\n",
    "\n",
    "n,m   = 7,7\n",
    "\n",
    "start = -3\n",
    "\n",
    "x_vals = np.arange(start,start+n,1)\n",
    "y_vals = np.arange(start,start+n,1)\n",
    "\n",
    "X,Y    = np.meshgrid(x_vals,y_vals)\n",
    "\n",
    "fig,ax = plt.subplots()\n",
    "ax.scatter(X,Y,color='red')\n",
    "ax.set_xlabel('x')\n",
    "ax.set_ylabel('y')\n",
    "plt.show()"
   ]
  },
  {
   "cell_type": "markdown",
   "metadata": {},
   "source": [
    "* Es común en procesamiento de señales referirse a la variable independiente en la representación matemática de una señal como el **tiempo**. \n",
    "* La variable tiempo puede ser **continua** o **discreta**.\n",
    "* Las señales de **tiempo continuo** se definen a lo largo de un continuo de tiempo y son representadas por una variable **independiente continua**.\n",
    "* Las señales de tiempo continuo son llamadas como **señales análogas**.\n",
    "\n",
    "+ Las señales de **tiempo discreto** son definidas en **tiempos discretos**. Por lo que la variable independiente toma **valores discretos**. Así, las señales de tiempo discreto son representadas como **secuencias de números**.\n",
    "\n",
    "+ Además de ser la variable independiente, ya sea continua o discreta, la **amplitud** de la señal puede ser **continua** o **discreta**.\n",
    "\n",
    "+ Las señales para las cuales **tanto el tiempo como la amplitud son discretos** son llamadas **señales digitales**.\n",
    "\n",
    "### Sistemas de procesamiento de señales.\n",
    "\n",
    "<!--- Inline HTML works too --->\n",
    "<p style=\"text-align:center\">\n",
    "    <a title=\"sistema\"><img src=\"Sistema2.png\" width=\"300\" height=\"300\" alt=\"Tiny\"></a>\n",
    "    <strong>Figure 1. Una representación idealizada de un sistema de procesamiento de señal.</strong>\n",
    "\n",
    "\n",
    "+ Los sistemas de procesamiento de señales pueden clasificarse a lo largo de las mismas líneas que las señales. \n",
    "+ Los **sistemas de tiempo continuo** son aquellos sistemas para los que tanto la **entrada** como la **salida** son señales de tiempo continuo.\n",
    "+ Los **sistemas de tiempo discreto** son aquellos para los que tanto la entrada como la salida son señales de tiempo discreto. \n",
    "+ Del mismo modo, un sistema digital es un sistema para el cual tanto la entrada como la salida son señales digitales. \n",
    "+ Procesamiento de señal digital, entonces, trata el problema de transformar señales que son discretas tanto en amplitud como en tiempo.    "
   ]
  },
  {
   "cell_type": "markdown",
   "metadata": {},
   "source": [
    "### Señal impulso unitario de Dirac.\n",
    "\n",
    "Esta señal denotada como $\\delta[n]$ no es una función en el sentido convencional. Esta se define como:\n",
    "\n",
    "\\begin{align}\n",
    "\\delta[n] &= \\begin{cases}\n",
    "1 & \\text{for } n = 0 \\\\\n",
    "0 & \\text{otherwise}\n",
    "\\end{cases}\n",
    "\\end{align}\n",
    "\n",
    "Esta función es también conocida como [*delta de Kronecker*](https://en.wikipedia.org/wiki/Kronecker_delta). La señal es un **impulso unitario**. Sus propiedades más importantes son:\n",
    "\n",
    "1. **Sifting**\n",
    "\n",
    "    \\begin{align}\n",
    "    \\sum_{k=-\\infty}^{\\infty}& x[k] \\cdot \\delta[n - k] = x[n] \n",
    "    \\end{align}\n",
    "    \n",
    "    Esta importante propiedad implica: $\\sum_{k = -\\infty}^{\\infty} x[k] = 1$.\n",
    "    \n",
    "2. **Linealidad**\n",
    "    \\begin{align}\n",
    "    a \\cdot \\delta[n] + b \\cdot \\delta[n] = (a+b) \\cdot \\delta[n]\n",
    "    \\end{align}\n",
    "\n",
    "Esta secuencia impulso unitario de Dirac tiene relevancia tanto en análisis de señales como también en el estudio de sistemas. Se usa fundamentalmente en el análisis de sistemas discretos **lineales** e **invariantes en el tiempo**, a través de las **respuestas impulso** de aquellos sistemas."
   ]
  },
  {
   "cell_type": "code",
   "execution_count": null,
   "metadata": {},
   "outputs": [],
   "source": [
    "import numpy as np\n",
    "import matplotlib.pyplot as plt\n",
    "%matplotlib inline\n",
    "\n",
    "n = np.arange(10);\n",
    "\n",
    "x = np.zeros_like(n)\n",
    "print(x[:])\n",
    "\n",
    "x[2]=1;\n",
    "\n",
    "plt.vlines(n,0,x,'b');\n",
    "\n",
    "plt.ylim(-1,4);\n",
    "\n",
    "plt.plot(n,0*n, 'b');\n",
    "\n",
    "plt.show();\n",
    "\n"
   ]
  },
  {
   "cell_type": "code",
   "execution_count": null,
   "metadata": {},
   "outputs": [],
   "source": [
    "help(np.zeros_like)"
   ]
  },
  {
   "cell_type": "code",
   "execution_count": null,
   "metadata": {},
   "outputs": [],
   "source": []
  }
 ],
 "metadata": {
  "kernelspec": {
   "display_name": "acus340",
   "language": "python",
   "name": "acus340"
  },
  "language_info": {
   "codemirror_mode": {
    "name": "ipython",
    "version": 3
   },
   "file_extension": ".py",
   "mimetype": "text/x-python",
   "name": "python",
   "nbconvert_exporter": "python",
   "pygments_lexer": "ipython3",
   "version": "3.8.3"
  }
 },
 "nbformat": 4,
 "nbformat_minor": 4
}
