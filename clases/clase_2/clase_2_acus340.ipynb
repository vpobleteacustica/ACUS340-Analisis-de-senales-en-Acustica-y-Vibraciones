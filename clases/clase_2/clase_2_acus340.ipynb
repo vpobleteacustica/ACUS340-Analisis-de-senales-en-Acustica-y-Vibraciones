{
 "cells": [
  {
   "cell_type": "code",
   "execution_count": null,
   "metadata": {},
   "outputs": [],
   "source": [
    "%%HTML\n",
    "<!-- Mejorar visualización en proyector -->\n",
    "<style>\n",
    ".rendered_html {font-size: 1.2em; line-height: 150%;}\n",
    "div.prompt {min-width: 0ex; }\n",
    ".container {width:95% !important;}\n",
    "</style>"
   ]
  },
  {
   "cell_type": "markdown",
   "metadata": {},
   "source": [
    "## <h1 style=\"text-align:center\">Clase 2: Secuencias, sistemas LTI y suma de convolución</h1>\n",
    "<h3 style=\"text-align:center\">ACUS340: Procesamiento digital de señales</h3>\n",
    "<p style=\"text-align:center\">Dr. Víctor Poblete <br>\n",
    "<a href=\"mailto:vpoblete@uach.cl\">vpoblete@uach.cl</a><br>\n",
    "<a href=\"https://github.com/vpobleteacustica/ACUS340-Analisis-de-senales-en-Acustica-y-Vibraciones\">https://github.com/vpobleteacustica/ACUS340-Analisis-de-senales-en-Acustica-y-Vibraciones</a><br> \n",
    "<p style=\"text-align:center\">Diego Espejo Alquinta - Ayudante <br>\n",
    "<a href=\"mailto:diego.espejo@alumnos.uach.cl\">diego.espejo@alumnos.uach.cl </a><br>\n",
    "<a href=\"http://www.acusticauach.cl\">www.acusticauach.cl</a><br> "
   ]
  },
  {
   "cell_type": "markdown",
   "metadata": {},
   "source": [
    "#### Representación gráfica de una señal en tiempo discreto"
   ]
  },
  {
   "cell_type": "markdown",
   "metadata": {},
   "source": [
    "<p style=\"text-align:center\">\n",
    "    <a title=\"sistema\"><img src=\"discrete_time.png\" width=\"780\" height=\"780\" alt=\"Tiny\"></a>\n",
    "    <strong>Figure 1. Representación gráfica señal en tiempo discreto. (Ref. Oppenheim and Schafer, Discrete Time Signal Processing, 2001).</strong>"
   ]
  },
  {
   "cell_type": "markdown",
   "metadata": {},
   "source": [
    "#### Secuencia impulso de Dirac, llamada también, secuencia impulso unitario $\\delta[n]$ "
   ]
  },
  {
   "cell_type": "markdown",
   "metadata": {},
   "source": [
    "$$\n",
    "\\begin{align*}\n",
    "\\delta[n] &= \\left\\{ \\begin{array}{lcc}\n",
    "             1, &   si  & n = 0\\\\\n",
    "             \\\\ 0, &  si  & n \\neq 0\n",
    "             \\end{array}\n",
    "   \\right.\n",
    "\\end{align*}\n",
    "$$"
   ]
  },
  {
   "cell_type": "code",
   "execution_count": 2,
   "metadata": {},
   "outputs": [],
   "source": [
    "import numpy as np\n",
    "import matplotlib.pyplot as plt\n",
    "from scipy import signal"
   ]
  },
  {
   "cell_type": "markdown",
   "metadata": {},
   "source": [
    "> + Usemos la librería: scipy.signal.unit_impulse\n",
    "\n",
    "#### Una delta unitaria centrada en n=0 ($\\delta[n]$)"
   ]
  },
  {
   "cell_type": "code",
   "execution_count": 3,
   "metadata": {},
   "outputs": [
    {
     "name": "stdout",
     "output_type": "stream",
     "text": [
      "[1. 0. 0. 0. 0. 0. 0. 0.]\n"
     ]
    }
   ],
   "source": [
    "delta = signal.unit_impulse(8)\n",
    "print(delta)"
   ]
  },
  {
   "cell_type": "markdown",
   "metadata": {},
   "source": [
    "#### Impulso shifteado dos muestras a la derecha: $\\delta[n-2]$"
   ]
  },
  {
   "cell_type": "code",
   "execution_count": 4,
   "metadata": {},
   "outputs": [
    {
     "name": "stdout",
     "output_type": "stream",
     "text": [
      "[0. 0. 1. 0. 0. 0. 0.]\n"
     ]
    }
   ],
   "source": [
    "delta_2 = signal.unit_impulse(7, 2)\n",
    "print(delta_2)"
   ]
  },
  {
   "cell_type": "markdown",
   "metadata": {},
   "source": [
    "#### Impulso en dos dimensiones (el caso de imágenes) centrado:"
   ]
  },
  {
   "cell_type": "code",
   "execution_count": 5,
   "metadata": {},
   "outputs": [
    {
     "name": "stdout",
     "output_type": "stream",
     "text": [
      "[[0. 0. 0. 0. 0.]\n",
      " [0. 0. 0. 0. 0.]\n",
      " [0. 0. 1. 0. 0.]\n",
      " [0. 0. 0. 0. 0.]\n",
      " [0. 0. 0. 0. 0.]]\n"
     ]
    }
   ],
   "source": [
    "delta_2D = signal.unit_impulse((5, 5), 'mid')\n",
    "print(delta_2D)"
   ]
  },
  {
   "cell_type": "markdown",
   "metadata": {},
   "source": [
    "#### Impulso no centrado, por ejemplo ubicado en (2,2)"
   ]
  },
  {
   "cell_type": "code",
   "execution_count": 6,
   "metadata": {},
   "outputs": [
    {
     "name": "stdout",
     "output_type": "stream",
     "text": [
      "[[0. 0. 0. 0.]\n",
      " [0. 0. 0. 0.]\n",
      " [0. 0. 1. 0.]\n",
      " [0. 0. 0. 0.]]\n"
     ]
    }
   ],
   "source": [
    "delta_2d_not_centered = signal.unit_impulse((4, 4), 2)\n",
    "print(delta_2d_not_centered)"
   ]
  },
  {
   "cell_type": "markdown",
   "metadata": {},
   "source": [
    "#### Plotear impulso"
   ]
  },
  {
   "cell_type": "code",
   "execution_count": 7,
   "metadata": {},
   "outputs": [
    {
     "name": "stdout",
     "output_type": "stream",
     "text": [
      "8\n"
     ]
    }
   ],
   "source": [
    "print(len(delta))"
   ]
  },
  {
   "cell_type": "code",
   "execution_count": 8,
   "metadata": {},
   "outputs": [
    {
     "name": "stdout",
     "output_type": "stream",
     "text": [
      "8\n"
     ]
    }
   ],
   "source": [
    "n1 = np.arange(1,9,1)\n",
    "print(len(n1))"
   ]
  },
  {
   "cell_type": "code",
   "execution_count": 9,
   "metadata": {},
   "outputs": [
    {
     "data": {
      "image/png": "[encoded data removed]",
      "text/plain": [
       "<Figure size 1152x144 with 1 Axes>"
      ]
     },
     "metadata": {
      "needs_background": "light"
     },
     "output_type": "display_data"
    }
   ],
   "source": [
    "plt.figure(figsize=(16,2))\n",
    "markerline, stemlines, baseline = plt.stem(n1, delta,linefmt='black',markerfmt='ko',use_line_collection=True)\n",
    "plt.xlabel('$n$',fontsize=18)\n",
    "plt.ylabel('$x[n]$',fontsize=18)\n",
    "plt.title('Impulso',fontsize=22)\n",
    "plt.ylim(np.min(delta)-0.1,np.max(delta)+0.1)\n",
    "plt.setp(baseline, color='navy',linewidth=2)\n",
    "plt.grid()"
   ]
  },
  {
   "cell_type": "code",
   "execution_count": 10,
   "metadata": {},
   "outputs": [],
   "source": [
    "n = np.arange(-50, 50)\n",
    "impulso = signal.unit_impulse(100, 'mid')"
   ]
  },
  {
   "cell_type": "code",
   "execution_count": 11,
   "metadata": {},
   "outputs": [
    {
     "data": {
      "image/png": "[encoded data removed]",
      "text/plain": [
       "<Figure size 1152x144 with 1 Axes>"
      ]
     },
     "metadata": {
      "needs_background": "light"
     },
     "output_type": "display_data"
    }
   ],
   "source": [
    "plt.figure(figsize=(16,2))\n",
    "markerline, stemlines, baseline = plt.stem(n, impulso,linefmt='black',markerfmt='ko',use_line_collection=True)\n",
    "plt.xlabel('$n$',fontsize=18)\n",
    "plt.ylabel('$impulso$',fontsize=18)\n",
    "plt.title('Impulso unitario',fontsize=22)\n",
    "plt.ylim(np.min(delta)-0.1,np.max(delta)+0.1)\n",
    "plt.setp(baseline, color='navy',linewidth=2)\n",
    "plt.grid()"
   ]
  },
  {
   "cell_type": "markdown",
   "metadata": {},
   "source": [
    "#### Escalón unitario $u[n]$\n",
    "\n",
    "$$\n",
    "\\begin{align*}\n",
    "u[n] &= \\left\\{ \\begin{array}{lcc}\n",
    "             1, &   si  & n \\ge 0\\\\\n",
    "             \\\\ 0, &  si  & n < 0\n",
    "             \\end{array}\n",
    "   \\right.\n",
    "\\end{align*}\n",
    "$$"
   ]
  },
  {
   "cell_type": "code",
   "execution_count": 12,
   "metadata": {},
   "outputs": [],
   "source": [
    "# Darnos un intervalo\n",
    "lim_sup = 50\n",
    "lim_inf = -50\n",
    "\n",
    "# Usaremos np.arange que nos devuelve valores espaciados uniformemente dentro del intervalo dado.\n",
    "n = np.arange(lim_inf, lim_sup, 1)\n",
    "\n",
    "# Punto de inicio del escalón\n",
    "n0 = 0 \n",
    "\n",
    "u_n =[]\n",
    "for s in n:\n",
    "    if s < n0:\n",
    "        u_n.append(0)\n",
    "    else:\n",
    "        u_n.append(1)"
   ]
  },
  {
   "cell_type": "code",
   "execution_count": 13,
   "metadata": {},
   "outputs": [],
   "source": [
    "def escal_unit_inf(n0, n):\n",
    "    u_n = []\n",
    "    for s in n:\n",
    "        if s < n0:\n",
    "            u_n.append(0)\n",
    "        else:\n",
    "            u_n.append(1)\n",
    "    return u_n"
   ]
  },
  {
   "cell_type": "code",
   "execution_count": 14,
   "metadata": {},
   "outputs": [
    {
     "data": {
      "image/png": "[encoded data removed]",
      "text/plain": [
       "<Figure size 1152x144 with 1 Axes>"
      ]
     },
     "metadata": {
      "needs_background": "light"
     },
     "output_type": "display_data"
    }
   ],
   "source": [
    "plt.figure(figsize=(16,2))\n",
    "markerline, stemlines, baseline = plt.stem(n, u_n,linefmt='black',markerfmt='ko',use_line_collection=True)\n",
    "plt.xlabel('$n$',fontsize=18)\n",
    "plt.ylabel('$impulso$',fontsize=18)\n",
    "plt.title('Escalón unitario',fontsize=22)\n",
    "plt.ylim(np.min(delta)-0.1,np.max(delta)+0.1)\n",
    "plt.setp(baseline, color='navy',linewidth=2)\n",
    "plt.grid()"
   ]
  },
  {
   "cell_type": "markdown",
   "metadata": {},
   "source": [
    "### Sistemas: \n",
    "\n",
    "> + Un sistema en tiempo discreto\n",
    "> + Matemáticamente, es una transformación $T\\big\\{\\cdot\\big\\}$ de una señal $x[n]$, en una señal de salida $y[n]$. \n",
    "$$\n",
    "\\begin{align*}\n",
    "y[n] &= T\\big\\{x[n]\\big\\}\n",
    "\\end{align*}\n",
    "$$\n",
    ">> + O equivalentemente,\n",
    "$$\n",
    "\\begin{align*}\n",
    "x[n] \\xrightarrow[]{T}y[n]\n",
    "\\end{align*}\n",
    "$$\n",
    "\n",
    "\n",
    "\n",
    "<!--- Inline HTML works too --->\n",
    "<p style=\"text-align:center\">\n",
    "    <a title=\"sistema\"><img src=\"LTI.png\" width=\"380\" height=\"480\" alt=\"Tiny\"></a>\n",
    "    <strong>Figure 1. Representación de un sistema en tiempo discreto.</strong>"
   ]
  },
  {
   "cell_type": "markdown",
   "metadata": {},
   "source": [
    "### Propiedades de los sistemas:\n",
    "\n",
    "> + **Sistema invariante en el tiempo**.\n",
    ">> + La propiedad de invariancia en el tiempo quiere decir que las características de entrada y salida NO cambian con el tiempo:\n",
    ">> + Un sistema es invariante en el tiempo si y sólo si:\n",
    "$$\n",
    "\\begin{align*}\n",
    "x[n] \\xrightarrow[]{T}y[n] \\implies x[n-n_{0}] \\xrightarrow[]{T}y[n-n_{0}], \\,\\,\\,\\, \\forall \\,{\\text{entrada}} \\,\\,\\, x[n] \\,\\,\\, {\\text{y}} \\,\\,\\, \\forall \\,\\,\\, {\\text{desplazamiento de tiempo}}\\,\\, n_{0}.\n",
    "\\end{align*}\n",
    "$$\n",
    "<p style=\"text-align:center\">\n",
    "    <a title=\"sistema\"><img src=\"invariante.png\" width=\"480\" height=\"480\" alt=\"Tiny\"></a>\n",
    "    <strong>Figure 2. Sistema invariante en el tiempo.</strong>\n",
    "    \n",
    "> + **Sistema lineal**.\n",
    ">> + La propiedad de sistema lineal quiere decir que obedece al principio de superposición:\n",
    ">> + Un sistema es lineal si y sólo si:\n",
    "$$\n",
    "\\begin{align*}\n",
    "T[a_1\\cdot x_1[n] + a_2\\cdot x_2[n]] = a_1\\cdot T[x_1[n]] + a_2\\cdot T[x_2[n]] \\,\\,\\,\\, {\\text{para cualquier secuencia de entrada arbitraria}} \\,\\,\\, x_1[n], {\\text{y}}\\, x_2[n] \\,\\,\\, {\\text{y}} \\,\\,\\, {\\text{para cualquier constante arbitraria}} \\,\\,\\, c_1, \\,{\\text{y}}\\, c_2.\n",
    "\\end{align*}\n",
    "$$\n",
    "<p style=\"text-align:center\">\n",
    "    <a title=\"sistema\"><img src=\"lineal.png\" width=\"480\" height=\"480\" alt=\"Tiny\"></a>\n",
    "    <strong>Figure 3. Sistema lineal.</strong>"
   ]
  },
  {
   "cell_type": "markdown",
   "metadata": {},
   "source": [
    "#### Sistema LTI (linear time invariant), o sistema lineal e invariante en el tiempo, nos permite estimar la salida del sistema a través de la suma de convolución.\n",
    "    \n",
    "> + Respuesta impulso del sistema LTI, la llamamos $h[n]$, que corresponde a la salida del sistema cuando en la entrada hay un impulso de Dirac $\\delta [n]$:\n",
    "\n",
    "<p style=\"text-align:center\">\n",
    "    <a title=\"sistema\"><img src=\"respuesta_impulso.png\" width=\"380\" height=\"380\" alt=\"Tiny\"></a>\n",
    "    <strong>Figure 4. Respuesta al impulso de un sistema LTI.</strong>\n",
    "\n",
    "\n",
    "$$\n",
    "\\begin{align*}\n",
    "\\delta[n] \\xrightarrow[]{T}h[n]\n",
    "\\end{align*}\n",
    "$$\n",
    "    \n",
    "$$\n",
    "\\begin{align*}\n",
    "\\hspace{0.15cm} \\delta[n - k] \\xrightarrow[]{T}h[n - k]\n",
    "\\end{align*}\n",
    "$$ \n",
    "    \n",
    "$$\n",
    "\\begin{align*}\n",
    "\\hspace{0.15cm} x[k] \\delta[n - k] \\xrightarrow[]{T} x[k] h[n - k]\n",
    "\\end{align*}\n",
    "$$     \n",
    "    \n",
    "$$\n",
    "\\begin{align*}\n",
    "\\hspace{0.15cm} \\sum_{k=-\\infty}^{\\infty} x[k] \\delta[n - k] \\xrightarrow[]{T} \\sum_{k=-\\infty}^{\\infty} x[k] h[n - k]\n",
    "\\end{align*}\n",
    "$$\n",
    "    \n",
    "$$\n",
    "\\begin{align*}\n",
    "\\hspace{0.15cm} x[n] \\xrightarrow[]{T} y[n]\n",
    "\\end{align*}\n",
    "$$ \n",
    "    \n",
    ">> + Por lo tanto, por definición la suma de convolución es:\n",
    "$$\n",
    "\\begin{align*}\n",
    "\\hspace{0.15cm} y[n] =   \\sum_{k=-\\infty}^{\\infty} x[k] h[n - k] = x[n]*h[n], \\quad {\\text{para cualquier sistema LTI.}}\n",
    "\\end{align*}\n",
    "$$     \n",
    "    \n"
   ]
  },
  {
   "cell_type": "markdown",
   "metadata": {},
   "source": [
    "#### En resumen,\n",
    " \n",
    ">> + Merece un cierto cuidado la dependencia de $n$ en $y[n]$.\n",
    ">> + Por cada valor de $n$ debemos calcular la convolución, separadamente para todos los valores de la variable \"k\". Así que por cada $n$, tenemos que:\n",
    "   1. Renombrar la variable independiente como $k$, así que ahora escribimos $x[k]$ y $h[k]$.\n",
    "   2. Fipeamos $h[k]$ en el origen. Esto es, hacemos $h[-k]$.\n",
    "   3. Desplazamos hacia la izquierda lo más lejos posible $h[-k]$ hasta un punto $n$, estos es, $h[n-k]$, donde las dos señales NO se tocan.\n",
    "   4. Desplazamos/shifteamos, el valor de $n$ en una muestra en $h[n-k]$, hasta que se ecuentren traslapadas la primera muestra de $x[k]$ con la primera de $h[n-k]$. Multiplicamos las amplitudes.\n",
    "   5. Continuamos moviendo $n$ en $h[n-k]$ paso a paso, multiplicamos y sumamos los productos resultantes.\n",
    "   6. Repetimos este shifteo hacia la derecha muestra a muestra hasta la zona en que ya no estén traslapadas $x[k]$ y $h[n-k]$.\n",
    "   7. Esta es la suma de convolución para cada valor específico de $n$:\n",
    "$$\n",
    "\\begin{align*}\n",
    "\\hspace{0.15cm} y[n] =   \\sum_{k=-\\infty}^{\\infty} x[k] \\cdot h[n - k] = x[n]*h[n], \\quad {\\text{para cualquier sistema LTI.}}\n",
    "\\end{align*}\n",
    "$$  "
   ]
  },
  {
   "cell_type": "markdown",
   "metadata": {},
   "source": [
    "#### Ejercicios:\n",
    ">> + Crear una secuencia exponencial con $a = 0.85$\n",
    ">> + Sean $x[n]= [1, 2, 3, 4]$ y $h[n]=[1, 1, 1]$. Realizar el procedimiento gráfico para entender la suma de convolución. Usar:"
   ]
  },
  {
   "cell_type": "code",
   "execution_count": 15,
   "metadata": {},
   "outputs": [],
   "source": [
    "x1 = [1, 2, 3, 4]\n",
    "x2 = [1, 1, 1]\n",
    "y = np.convolve(x1, x2)"
   ]
  },
  {
   "cell_type": "code",
   "execution_count": null,
   "metadata": {},
   "outputs": [],
   "source": []
  }
 ],
 "metadata": {
  "kernelspec": {
   "display_name": "acus340",
   "language": "python",
   "name": "acus340"
  },
  "language_info": {
   "codemirror_mode": {
    "name": "ipython",
    "version": 3
   },
   "file_extension": ".py",
   "mimetype": "text/x-python",
   "name": "python",
   "nbconvert_exporter": "python",
   "pygments_lexer": "ipython3",
   "version": "3.8.3"
  }
 },
 "nbformat": 4,
 "nbformat_minor": 4
}
