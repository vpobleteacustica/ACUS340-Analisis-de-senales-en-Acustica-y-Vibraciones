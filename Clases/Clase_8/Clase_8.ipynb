{
 "cells": [
  {
   "cell_type": "code",
   "execution_count": 1,
   "metadata": {},
   "outputs": [
    {
     "data": {
      "text/html": [
       "<!-- Mejorar visualización en proyector -->\n",
       "<style>\n",
       ".rendered_html {font-size: 1.2em; line-height: 150%;}\n",
       "div.prompt {min-width: 0ex; }\n",
       ".container {width:95% !important;}\n",
       "</style>\n"
      ],
      "text/plain": [
       "<IPython.core.display.HTML object>"
      ]
     },
     "metadata": {},
     "output_type": "display_data"
    }
   ],
   "source": [
    "%%HTML\n",
    "<!-- Mejorar visualización en proyector -->\n",
    "<style>\n",
    ".rendered_html {font-size: 1.2em; line-height: 150%;}\n",
    "div.prompt {min-width: 0ex; }\n",
    ".container {width:95% !important;}\n",
    "</style>"
   ]
  },
  {
   "cell_type": "markdown",
   "metadata": {},
   "source": [
    "##### <h1 style=\"text-align:center\">Semana 6. Clase 8: Estimación espectral </h1>\n",
    "<h3 style=\"text-align:center\">ACUS340: Procesamiento digital de señales</h3>\n",
    "<p style=\"text-align:center\">Dr. Víctor Poblete <br>\n",
    "<a href=\"mailto:vpoblete@uach.cl\">vpoblete@uach.cl</a><br>\n",
    "<a href=\"https://github.com/vpobleteacustica/ACUS340-Analisis-de-senales-en-Acustica-y-Vibraciones\">https://github.com/vpobleteacustica/ACUS340-Analisis-de-senales-en-Acustica-y-Vibraciones</a><br> \n",
    "<p style=\"text-align:center\">Diego Espejo Alquinta - Ayudante <br>\n",
    "<a href=\"mailto:diego.espejo@alumnos.uach.cl\">diego.espejo@alumnos.uach.cl </a><br>\n",
    "<a href=\"http://www.acusticauach.cl\">www.acusticauach.cl</a><br> "
   ]
  },
  {
   "cell_type": "markdown",
   "metadata": {},
   "source": [
    "### Transformada de Fourier\n",
    "> + La transformada de Fourier de una señal $x(t)$ en tiempo continuo (señal análoga) está dada por:\n",
    "\n",
    "$$\n",
    "\\begin{align*}\n",
    "X(\\Omega) & = \\int_{-\\infty}^{\\infty} x(t)\\,e^{-j\\omega t} dt\n",
    "\\end{align*}\n",
    "$$\n",
    "\n",
    "> + Y la transformada de Fouerier inversa de $X(\\Omega)$ viene dada por:\n",
    "\n",
    "$$\n",
    "\\begin{align*}\n",
    "x(t) & = \\frac{1}{2\\pi}\\int_{-\\infty}^{\\infty} X(\\Omega)\\,e^{j\\omega t} d\\Omega\n",
    "\\end{align*}\n",
    "$$\n"
   ]
  },
  {
   "cell_type": "markdown",
   "metadata": {},
   "source": [
    "### Transformada de Fourier en tiempo discreto (DTFT)\n",
    "> + Es la tarea de obtener la transformada de Fourier pero en tiempo discreto (DTFT) de una señal $x[n]$.\n",
    "\n",
    "<!--- Inline HTML works too --->\n",
    "<p style=\"text-align:center\">\n",
    "    <a title=\"sistema\"><img src=\"DTFT.png\" width=\"380\" height=\"380\" alt=\"Tiny\"></a>\n",
    "    <strong>Figure 1. Muestreo de una señal $x(t)$ con frecuencia de muestreo $f_{s}$.</strong>\n",
    "\n",
    "> + La DTFT o espectro de una señal $x[n]$ es:\n",
    "$$\n",
    "\\begin{align*}\n",
    "X(e^{j\\omega})&=\\sum_{n=-\\infty}^{\\infty} x[n]\\,e^{-j\\omega n}\n",
    "\\end{align*}\n",
    "$$\n",
    "    \n",
    "> +  Y la transformada de Fouerier inversa de tiempo discreto (IDTFT) $X(e^{j\\omega t})$ viene dada por: \n",
    "\n",
    "$$\n",
    "\\begin{align*}\n",
    "x[n] &= \\frac{1}{2\\pi}\\int_{-\\pi}^{\\pi} X(e^{j\\omega})\\,e^{j\\omega n} d\\omega\n",
    "\\end{align*}\n",
    "$$\n",
    "        \n",
    "> + La señal $x[n]$ es generalmente de duración infinita.\n",
    "> + El espectro $X(e^{j\\omega})$ es una función continua de $\\omega$.\n",
    "> + Aunque la DTFT se puede calcular matemáticamente, ésta NO se puede calcular usando un computador.\n",
    "\n",
    "### Truncar la señal $x[n]$ o dividirla en segmentos de corta duración (en unidades de muestras o a veces, unidades de tiempo)\n",
    " \n",
    "> + Para dividir la señal $x[n]$ en segmentos de corta duración se considera multiplicar la señal por una ventana rectangular de amplitud unitaria.\n",
    "    \n",
    "<!--- Inline HTML works too --->\n",
    "<p style=\"text-align:center\">\n",
    "    <a title=\"sistema\"><img src=\"ventana.png\" width=\"380\" height=\"380\" alt=\"Tiny\"></a>\n",
    "    <strong>Figure 1. Truncar una señal $x(t)$ usando una ventana rectangular.</strong>\n",
    "    \n",
    "> + La señal ventaneada es $x_{\\text{w}}[n]=x[n]\\cdot {\\text{w}}_{r}[n]$."
   ]
  },
  {
   "cell_type": "code",
   "execution_count": null,
   "metadata": {},
   "outputs": [],
   "source": []
  }
 ],
 "metadata": {
  "kernelspec": {
   "display_name": "acus340-env",
   "language": "python",
   "name": "acus340-env"
  },
  "language_info": {
   "codemirror_mode": {
    "name": "ipython",
    "version": 3
   },
   "file_extension": ".py",
   "mimetype": "text/x-python",
   "name": "python",
   "nbconvert_exporter": "python",
   "pygments_lexer": "ipython3",
   "version": "3.8.3"
  }
 },
 "nbformat": 4,
 "nbformat_minor": 4
}
