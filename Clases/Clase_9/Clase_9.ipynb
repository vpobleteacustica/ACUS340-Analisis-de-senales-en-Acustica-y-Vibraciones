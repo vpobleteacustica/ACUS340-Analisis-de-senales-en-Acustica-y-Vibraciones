{
 "cells": [
  {
   "cell_type": "code",
   "execution_count": 1,
   "metadata": {},
   "outputs": [
    {
     "data": {
      "text/html": [
       "<!-- Mejorar visualización en proyector -->\n",
       "<style>\n",
       ".rendered_html {font-size: 1.2em; line-height: 150%;}\n",
       "div.prompt {min-width: 0ex; }\n",
       ".container {width:95% !important;}\n",
       "</style>\n"
      ],
      "text/plain": [
       "<IPython.core.display.HTML object>"
      ]
     },
     "metadata": {},
     "output_type": "display_data"
    }
   ],
   "source": [
    "%%HTML\n",
    "<!-- Mejorar visualización en proyector -->\n",
    "<style>\n",
    ".rendered_html {font-size: 1.2em; line-height: 150%;}\n",
    "div.prompt {min-width: 0ex; }\n",
    ".container {width:95% !important;}\n",
    "</style>"
   ]
  },
  {
   "cell_type": "markdown",
   "metadata": {},
   "source": [
    "##### <h1 style=\"text-align:center\">Semana 10. Clase 9: Transformada Discreta de Fourier </h1>\n",
    "<h3 style=\"text-align:center\">ACUS340: Procesamiento digital de señales</h3>\n",
    "<p style=\"text-align:center\">Dr. Víctor Poblete <br>\n",
    "<a href=\"mailto:vpoblete@uach.cl\">vpoblete@uach.cl</a><br>\n",
    "<a href=\"https://github.com/vpobleteacustica/ACUS340-Analisis-de-senales-en-Acustica-y-Vibraciones\">https://github.com/vpobleteacustica/ACUS340-Analisis-de-senales-en-Acustica-y-Vibraciones</a><br> \n",
    "<p style=\"text-align:center\">Diego Espejo Alquinta - Ayudante <br>\n",
    "<a href=\"mailto:diego.espejo@alumnos.uach.cl\">diego.espejo@alumnos.uach.cl </a><br>\n",
    "<a href=\"http://www.acusticauach.cl\">www.acusticauach.cl</a><br> "
   ]
  },
  {
   "cell_type": "markdown",
   "metadata": {},
   "source": [
    "### Transformada discreta de Fourier - *Discrete Fourier Transform* (DFT)\n",
    "+ Es una versión discreta de la transformada de Fourier.\n",
    "+ Toma una señal en tiempo discreto y transforma esta señal en su representación en el dominio de frecuencia discreta.\n",
    "+ El algortitmo *Fast Fourier Transform* llamado clásicamente **FFT** calcula eficiente la DFT y la inversa de la DFT\n",
    "\n",
    "### Señal ventaneada $x[n]$ o dividida en segmentos de corta duración (expresada en unidades de muestras o a veces, unidades de tiempo)\n",
    " \n",
    "> + Para dividir la señal $x[n]$ en segmentos de corta duración se considera multiplicar la señal por una ventana rectangular de amplitud unitaria.\n",
    "    \n",
    "<!--- Inline HTML works too --->\n",
    "<p style=\"text-align:center\">\n",
    "    <a title=\"sistema\"><img src=\"ventana.png\" width=\"400\" height=\"380\" alt=\"Tiny\"></a>\n",
    "    <strong>Figure 1. Truncar una señal $x[n]$ usando una ventana rectangular.</strong>\n",
    "    \n",
    "> + La señal ventaneada es:\n",
    "    \n",
    "$$\n",
    "\\begin{align}\n",
    "x_{\\text{w}}[n]=x[n]\\cdot {\\text{w}}_{r}[n]\n",
    "\\end{align}\n",
    "$$\n",
    "+ Aplicamos transformada de Fourier:\n",
    "$$\n",
    "    \\begin{align*}\n",
    "\t\t\\underbrace{\\mathscr{F}\\left\\{x_{\\text{w}}[n]\\right\\}}_{X[k]} &= \\sum_{n=0}^{N-1} x_{\\text{w}}[n]\\,e^{-j\\omega_{k} n}\\\\\n",
    "\t\\end{align*}\n",
    "$$\n",
    "    \n",
    "+ donde $\\omega_{k}=\\frac{2\\pi k}{N}$ es la frecuencia discreta y $N$ es el largo de la ventana o período, con $0\\leq k \\leq N-1$. \n",
    "\n",
    "+ Así, \n",
    "    \n",
    "$$\n",
    "    \\begin{align*}\n",
    "\t\tX[k] &= \\sum_{n=0}^{N-1} x_{\\text{w}}[n]\\,e^{-j\\frac{2\\pi}{N}kn}\\\\\n",
    "\t\\end{align*}\n",
    "$$"
   ]
  },
  {
   "cell_type": "markdown",
   "metadata": {},
   "source": [
    "### Notación DFT\n",
    "\n",
    "+ Sean:\n",
    "\n",
    "$$\n",
    "\\begin{align}\n",
    "W_{N} &= e^{-j\\frac{2\\pi}{N}}\n",
    "\\end{align}\n",
    "$$\n",
    "\n",
    "$$\n",
    "\\begin{align}\n",
    "W_{N}^{-1} &= e^{j\\frac{2\\pi}{N}}\n",
    "\\end{align}\n",
    "$$\n",
    "\n",
    "de modo que la DFT será:\n",
    "$$\n",
    "    \\begin{align*}\n",
    "\t\tX[k] &= \\sum_{n=0}^{N-1} x_{\\text{w}}[n]\\,W_{N}^{kn},\\quad 0\\leq k \\leq N-1\n",
    "\t\\end{align*}\n",
    "$$\n",
    "\n",
    "Y la transformada inversa de la DFT es:\n",
    "$$\n",
    "    \\begin{align*}\n",
    "\t\tx[n] &= \\frac{1}{N}\\sum_{k=0}^{N-1} X[k] e^{j\\frac{2\\pi}{N}{kn}}\\\\\n",
    "             &= \\frac{1}{N}\\sum_{k=0}^{N-1} X[k] W_{N}^{-kn}\n",
    "\t\\end{align*}\n",
    "$$\n"
   ]
  },
  {
   "cell_type": "markdown",
   "metadata": {},
   "source": [
    "### Ecuaciones en representación matricial\n",
    "\n",
    "> + Re-escribamos la DFT como:\n",
    "\n",
    "$$\n",
    "    \\begin{align*}\n",
    "\t\tX[k] &= \\sum_{n=0}^{N-1} W_{N}^{kn}\\,x_{\\text{w}}[n], \\quad 0\\leq k \\leq N-1\n",
    "\t\\end{align*}\n",
    "$$\n",
    "\n",
    "> + Sean $k$ un índice de filas y $n$ un índice de columnas: \n",
    "\n",
    "\n",
    "$$\n",
    "\\begin{bmatrix}\n",
    "X[0] \\\\\n",
    "X[1] \\\\\n",
    "\\vdots\\\\\n",
    "X[N-1]\n",
    "\\end{bmatrix}\n",
    "=\\begin{bmatrix}\n",
    "W_{N}^{0\\cdot 0} & W_{N}^{0\\cdot 1} & W_{N}^{0\\cdot 2} & \\ldots & W_{N}^{0\\cdot (N-1)}\\\\\n",
    "W_{N}^{1\\cdot 0} & W_{N}^{1\\cdot 1} & W_{N}^{1\\cdot 2} & \\ldots & W_{N}^{1\\cdot (N-1)}\\\\\n",
    "\\vdots\\\\\n",
    "W_{N}^{(N-1)\\cdot 0} & W_{N}^{(N-1)\\cdot 1} & W_{N}^{(N-1)\\cdot 2} & \\ldots & W_{N}^{(N-1)\\cdot (N-1)}\n",
    "\\end{bmatrix}\n",
    "\\cdot\\begin{bmatrix}\n",
    "x_{\\text{w}}[0] \\\\\n",
    "x_{\\text{w}}[1] \\\\\n",
    "\\vdots\\\\\n",
    "x_{\\text{w}}[N-1]\n",
    "\\end{bmatrix}\n",
    "$$\n",
    "\n",
    "> + Pero, \n",
    "$$\n",
    "\\begin{align}\n",
    "W_{N}^{0\\cdot 0} &=1\n",
    "\\end{align}\n",
    "$$\n",
    "\n",
    "> + Así que se reduce:\n",
    "\n",
    "$$\n",
    "\\begin{bmatrix}\n",
    "X[0] \\\\\n",
    "X[1] \\\\\n",
    "\\vdots\\\\\n",
    "X[N-1]\n",
    "\\end{bmatrix}\n",
    "=\\begin{bmatrix}\n",
    "1 & 1 & 1 & \\ldots & 1\\\\\n",
    "1 & W_{N}^{1\\cdot 1} & W_{N}^{1\\cdot 2} & \\ldots & W_{N}^{1\\cdot (N-1)}\\\\\n",
    "\\vdots\\\\\n",
    "1 & W_{N}^{(N-1)\\cdot 1} & W_{N}^{(N-1)\\cdot 2} & \\ldots & W_{N}^{(N-1)\\cdot (N-1)}\n",
    "\\end{bmatrix}\n",
    "\\cdot\\begin{bmatrix}\n",
    "x_{\\text{w}}[0] \\\\\n",
    "x_{\\text{w}}[1] \\\\\n",
    "\\vdots\\\\\n",
    "x_{\\text{w}}[N-1]\n",
    "\\end{bmatrix}\n",
    "$$"
   ]
  },
  {
   "cell_type": "markdown",
   "metadata": {},
   "source": [
    "### Ejercicio\n",
    "\n",
    "> + Escribir la inversa de la DFT"
   ]
  },
  {
   "cell_type": "markdown",
   "metadata": {},
   "source": [
    "### Resolver"
   ]
  },
  {
   "cell_type": "markdown",
   "metadata": {},
   "source": [
    "> + Sea $x[n]$:\n",
    ">> + $x[0] = 1$; $x[1] = 3$; $x[2] = 4$; $x[3] = 4$\n",
    ">> + Calcular la DFT. de $x[n]$.\n",
    ">> + Obtener la inversa de la DFT. Comparar sus resultados con los valores originales de $x[n]$.\n",
    ">> + Escribir un código en Python para calcular la DFT y su inversa."
   ]
  },
  {
   "cell_type": "code",
   "execution_count": null,
   "metadata": {},
   "outputs": [],
   "source": []
  }
 ],
 "metadata": {
  "kernelspec": {
   "display_name": "acus099-env",
   "language": "python",
   "name": "acus099-env"
  },
  "language_info": {
   "codemirror_mode": {
    "name": "ipython",
    "version": 3
   },
   "file_extension": ".py",
   "mimetype": "text/x-python",
   "name": "python",
   "nbconvert_exporter": "python",
   "pygments_lexer": "ipython3",
   "version": "3.8.3"
  }
 },
 "nbformat": 4,
 "nbformat_minor": 4
}
